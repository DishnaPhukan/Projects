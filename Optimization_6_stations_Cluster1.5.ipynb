{
 "cells": [
  {
   "cell_type": "code",
   "execution_count": 363,
   "metadata": {
    "colab": {
     "base_uri": "https://localhost:8080/",
     "height": 350
    },
    "executionInfo": {
     "elapsed": 537,
     "status": "error",
     "timestamp": 1606712164507,
     "user": {
      "displayName": "Beiqi",
      "photoUrl": "https://lh3.googleusercontent.com/a-/AOh14GiKa49RhOJfiw7bH1sc7G8hIuQlOxfPMuPEn2I7Hg=s64",
      "userId": "04423659769352630081"
     },
     "user_tz": 300
    },
    "id": "wBYga4JjaPls",
    "outputId": "210f5daf-3f15-4416-ed08-d3417f6c6156"
   },
   "outputs": [],
   "source": [
    "import gurobipy as gp\n",
    "from gurobipy import *\n",
    "import numpy as np\n",
    "import pandas as pd\n",
    "import matplotlib.pyplot as plt\n",
    "import osmnx as ox\n",
    "import math\n",
    "import itertools\n",
    "from itertools import combinations\n",
    "from itertools import permutations\n",
    "from itertools import permutations, product\n",
    "import networkx as nx\n",
    "import geopandas as gpd\n",
    "from shapely.geometry import Point"
   ]
  },
  {
   "cell_type": "markdown",
   "metadata": {
    "id": "S2NCCISmaPls"
   },
   "source": [
    "## Problem: Carbon and economic cost minimization"
   ]
  },
  {
   "cell_type": "markdown",
   "metadata": {
    "id": "h9daiW4l4FyJ"
   },
   "source": [
    "### Parameters\n",
    "- $d_{i,j}$: The distance between station $i$ and station $j$.\n",
    "- $E_i$: The existing number of bikes at station $i$ before rebalancing.\n",
    "- $I_i = [\\lambda_i - \\omega_i, \\lambda_i + \\omega_i]$: The ideal threshold of bikes at station $i$ after rebalancing, which is represented by a predetermined idea amount $\\lambda_i$ associated with a symmetric threshold of $2\\omega_i$.\n",
    "- $\\gamma_i$: Capacity (number of docks) of bike station $i$.\n",
    "- $n$: Number of stations.\n",
    "- $C$: Capacity of the truck.\n",
    "- $h$: Wage for driver, dollars per bike.\n",
    "- $g$: Price of Gasoline, dollars per kilometer.\n",
    "- $s_{i}^+$: A binary value that indicates whether there is a bike surplus at station $i$, i.e. $s_{i}^+ = 1$ when $E_i > \\lambda_i + \\omega_i$, and zero otherwise.\n",
    "- $s_{i}^-$: A binary value that indicates whether there is a bike shortage at station $i$, i.e. $s_{i}^- = 1$ when $E_i < \\lambda_i - \\omega_i$, and zero otherwise."
   ]
  },
  {
   "cell_type": "code",
   "execution_count": 364,
   "metadata": {
    "id": "6FZOa6-oaPls"
   },
   "outputs": [],
   "source": [
    "#Data importing and preprocessing\n",
    "df_nodes = pd.read_excel('Cluster_1/cluster_1.5.xlsx')\n",
    "#stations = [coordinates of each station]\n",
    "n = df_nodes.shape[0]\n",
    "stations = [[np.array(df_nodes.Latitude)[i], np.array(df_nodes.Longitude)[i]] for i in range(n)]"
   ]
  },
  {
   "cell_type": "code",
   "execution_count": 365,
   "metadata": {},
   "outputs": [],
   "source": [
    "#df_nodes=df_nodes.drop([4])"
   ]
  },
  {
   "cell_type": "code",
   "execution_count": 366,
   "metadata": {},
   "outputs": [
    {
     "name": "stdout",
     "output_type": "stream",
     "text": [
      "Total demand for this set of nodes is: -33\n"
     ]
    }
   ],
   "source": [
    "df_nodes\n",
    "print(f\"Total demand for this set of nodes is: {df_nodes['Bikes in excess'].sum()}\")"
   ]
  },
  {
   "cell_type": "code",
   "execution_count": 367,
   "metadata": {},
   "outputs": [],
   "source": [
    "#df_nodes= df_nodes.drop(10)\n",
    "#df_nodes= df_nodes.drop(5)\n",
    "#df_nodes= df_nodes.drop(4)\n"
   ]
  },
  {
   "cell_type": "code",
   "execution_count": 368,
   "metadata": {},
   "outputs": [
    {
     "data": {
      "text/html": [
       "<div>\n",
       "<style scoped>\n",
       "    .dataframe tbody tr th:only-of-type {\n",
       "        vertical-align: middle;\n",
       "    }\n",
       "\n",
       "    .dataframe tbody tr th {\n",
       "        vertical-align: top;\n",
       "    }\n",
       "\n",
       "    .dataframe thead th {\n",
       "        text-align: right;\n",
       "    }\n",
       "</style>\n",
       "<table border=\"1\" class=\"dataframe\">\n",
       "  <thead>\n",
       "    <tr style=\"text-align: right;\">\n",
       "      <th></th>\n",
       "      <th>Station Name</th>\n",
       "      <th>No. of trip starts</th>\n",
       "      <th>No. of trip ends</th>\n",
       "      <th>Bikes in excess</th>\n",
       "      <th>Latitude</th>\n",
       "      <th>Longitude</th>\n",
       "    </tr>\n",
       "  </thead>\n",
       "  <tbody>\n",
       "    <tr>\n",
       "      <th>0</th>\n",
       "      <td>Columbus Drive</td>\n",
       "      <td>31</td>\n",
       "      <td>28</td>\n",
       "      <td>-3</td>\n",
       "      <td>40.718804</td>\n",
       "      <td>-74.038817</td>\n",
       "    </tr>\n",
       "    <tr>\n",
       "      <th>1</th>\n",
       "      <td>Van Vorst Park</td>\n",
       "      <td>24</td>\n",
       "      <td>20</td>\n",
       "      <td>-4</td>\n",
       "      <td>40.718520</td>\n",
       "      <td>-74.047807</td>\n",
       "    </tr>\n",
       "    <tr>\n",
       "      <th>2</th>\n",
       "      <td>City Hall</td>\n",
       "      <td>25</td>\n",
       "      <td>22</td>\n",
       "      <td>-3</td>\n",
       "      <td>40.717783</td>\n",
       "      <td>-74.043917</td>\n",
       "    </tr>\n",
       "    <tr>\n",
       "      <th>3</th>\n",
       "      <td>York St &amp; Marin Blvd</td>\n",
       "      <td>17</td>\n",
       "      <td>14</td>\n",
       "      <td>-3</td>\n",
       "      <td>40.716677</td>\n",
       "      <td>-74.042280</td>\n",
       "    </tr>\n",
       "    <tr>\n",
       "      <th>4</th>\n",
       "      <td>Exchange Pl</td>\n",
       "      <td>40</td>\n",
       "      <td>39</td>\n",
       "      <td>-1</td>\n",
       "      <td>40.716440</td>\n",
       "      <td>-74.034544</td>\n",
       "    </tr>\n",
       "    <tr>\n",
       "      <th>5</th>\n",
       "      <td>JC Medical Center</td>\n",
       "      <td>25</td>\n",
       "      <td>20</td>\n",
       "      <td>-5</td>\n",
       "      <td>40.715586</td>\n",
       "      <td>-74.049726</td>\n",
       "    </tr>\n",
       "    <tr>\n",
       "      <th>6</th>\n",
       "      <td>Grand St</td>\n",
       "      <td>20</td>\n",
       "      <td>15</td>\n",
       "      <td>-5</td>\n",
       "      <td>40.715062</td>\n",
       "      <td>-74.037705</td>\n",
       "    </tr>\n",
       "    <tr>\n",
       "      <th>7</th>\n",
       "      <td>Marin Light Rail</td>\n",
       "      <td>29</td>\n",
       "      <td>30</td>\n",
       "      <td>1</td>\n",
       "      <td>40.714613</td>\n",
       "      <td>-74.042798</td>\n",
       "    </tr>\n",
       "    <tr>\n",
       "      <th>8</th>\n",
       "      <td>Paulus Hook</td>\n",
       "      <td>20</td>\n",
       "      <td>19</td>\n",
       "      <td>-1</td>\n",
       "      <td>40.714164</td>\n",
       "      <td>-74.033602</td>\n",
       "    </tr>\n",
       "    <tr>\n",
       "      <th>9</th>\n",
       "      <td>Essex Light Rail</td>\n",
       "      <td>18</td>\n",
       "      <td>11</td>\n",
       "      <td>-7</td>\n",
       "      <td>40.712843</td>\n",
       "      <td>-74.037053</td>\n",
       "    </tr>\n",
       "    <tr>\n",
       "      <th>10</th>\n",
       "      <td>Liberty Light Rail</td>\n",
       "      <td>36</td>\n",
       "      <td>34</td>\n",
       "      <td>-2</td>\n",
       "      <td>40.711343</td>\n",
       "      <td>-74.055734</td>\n",
       "    </tr>\n",
       "  </tbody>\n",
       "</table>\n",
       "</div>"
      ],
      "text/plain": [
       "            Station Name  No. of trip starts  No. of trip ends  \\\n",
       "0         Columbus Drive                  31                28   \n",
       "1         Van Vorst Park                  24                20   \n",
       "2              City Hall                  25                22   \n",
       "3   York St & Marin Blvd                  17                14   \n",
       "4            Exchange Pl                  40                39   \n",
       "5      JC Medical Center                  25                20   \n",
       "6               Grand St                  20                15   \n",
       "7       Marin Light Rail                  29                30   \n",
       "8            Paulus Hook                  20                19   \n",
       "9       Essex Light Rail                  18                11   \n",
       "10    Liberty Light Rail                  36                34   \n",
       "\n",
       "    Bikes in excess   Latitude  Longitude  \n",
       "0                -3  40.718804 -74.038817  \n",
       "1                -4  40.718520 -74.047807  \n",
       "2                -3  40.717783 -74.043917  \n",
       "3                -3  40.716677 -74.042280  \n",
       "4                -1  40.716440 -74.034544  \n",
       "5                -5  40.715586 -74.049726  \n",
       "6                -5  40.715062 -74.037705  \n",
       "7                 1  40.714613 -74.042798  \n",
       "8                -1  40.714164 -74.033602  \n",
       "9                -7  40.712843 -74.037053  \n",
       "10               -2  40.711343 -74.055734  "
      ]
     },
     "execution_count": 368,
     "metadata": {},
     "output_type": "execute_result"
    }
   ],
   "source": [
    "df_nodes"
   ]
  },
  {
   "cell_type": "code",
   "execution_count": 369,
   "metadata": {},
   "outputs": [
    {
     "data": {
      "text/plain": [
       "'# Define indices to swap\\nfirst_pair_indices = [1, 2]  # Rows to swap\\nsecond_pair_indices = [9, 10]  # Rows to swap with\\n\\n# Swap the rows using temporary storage\\ndf_temp = df_nodes.iloc[first_pair_indices + second_pair_indices].copy()\\n\\n# Reassign rows\\ndf_nodes.iloc[first_pair_indices] = df_temp.iloc[len(first_pair_indices):].values\\ndf_nodes.iloc[second_pair_indices] = df_temp.iloc[:len(first_pair_indices)].values'"
      ]
     },
     "execution_count": 369,
     "metadata": {},
     "output_type": "execute_result"
    }
   ],
   "source": [
    "\"\"\"# Define indices to swap\n",
    "first_pair_indices = [1, 2]  # Rows to swap\n",
    "second_pair_indices = [9, 10]  # Rows to swap with\n",
    "\n",
    "# Swap the rows using temporary storage\n",
    "df_temp = df_nodes.iloc[first_pair_indices + second_pair_indices].copy()\n",
    "\n",
    "# Reassign rows\n",
    "df_nodes.iloc[first_pair_indices] = df_temp.iloc[len(first_pair_indices):].values\n",
    "df_nodes.iloc[second_pair_indices] = df_temp.iloc[:len(first_pair_indices)].values\"\"\""
   ]
  },
  {
   "cell_type": "code",
   "execution_count": 370,
   "metadata": {},
   "outputs": [
    {
     "data": {
      "text/html": [
       "<div>\n",
       "<style scoped>\n",
       "    .dataframe tbody tr th:only-of-type {\n",
       "        vertical-align: middle;\n",
       "    }\n",
       "\n",
       "    .dataframe tbody tr th {\n",
       "        vertical-align: top;\n",
       "    }\n",
       "\n",
       "    .dataframe thead th {\n",
       "        text-align: right;\n",
       "    }\n",
       "</style>\n",
       "<table border=\"1\" class=\"dataframe\">\n",
       "  <thead>\n",
       "    <tr style=\"text-align: right;\">\n",
       "      <th></th>\n",
       "      <th>Station Name</th>\n",
       "      <th>No. of trip starts</th>\n",
       "      <th>No. of trip ends</th>\n",
       "      <th>Bikes in excess</th>\n",
       "      <th>Latitude</th>\n",
       "      <th>Longitude</th>\n",
       "    </tr>\n",
       "  </thead>\n",
       "  <tbody>\n",
       "    <tr>\n",
       "      <th>0</th>\n",
       "      <td>Columbus Drive</td>\n",
       "      <td>31</td>\n",
       "      <td>28</td>\n",
       "      <td>-3</td>\n",
       "      <td>40.718804</td>\n",
       "      <td>-74.038817</td>\n",
       "    </tr>\n",
       "    <tr>\n",
       "      <th>1</th>\n",
       "      <td>Van Vorst Park</td>\n",
       "      <td>24</td>\n",
       "      <td>20</td>\n",
       "      <td>-4</td>\n",
       "      <td>40.718520</td>\n",
       "      <td>-74.047807</td>\n",
       "    </tr>\n",
       "    <tr>\n",
       "      <th>2</th>\n",
       "      <td>City Hall</td>\n",
       "      <td>25</td>\n",
       "      <td>22</td>\n",
       "      <td>-3</td>\n",
       "      <td>40.717783</td>\n",
       "      <td>-74.043917</td>\n",
       "    </tr>\n",
       "    <tr>\n",
       "      <th>3</th>\n",
       "      <td>York St &amp; Marin Blvd</td>\n",
       "      <td>17</td>\n",
       "      <td>14</td>\n",
       "      <td>-3</td>\n",
       "      <td>40.716677</td>\n",
       "      <td>-74.042280</td>\n",
       "    </tr>\n",
       "    <tr>\n",
       "      <th>4</th>\n",
       "      <td>Exchange Pl</td>\n",
       "      <td>40</td>\n",
       "      <td>39</td>\n",
       "      <td>-1</td>\n",
       "      <td>40.716440</td>\n",
       "      <td>-74.034544</td>\n",
       "    </tr>\n",
       "    <tr>\n",
       "      <th>5</th>\n",
       "      <td>JC Medical Center</td>\n",
       "      <td>25</td>\n",
       "      <td>20</td>\n",
       "      <td>-5</td>\n",
       "      <td>40.715586</td>\n",
       "      <td>-74.049726</td>\n",
       "    </tr>\n",
       "    <tr>\n",
       "      <th>6</th>\n",
       "      <td>Grand St</td>\n",
       "      <td>20</td>\n",
       "      <td>15</td>\n",
       "      <td>-5</td>\n",
       "      <td>40.715062</td>\n",
       "      <td>-74.037705</td>\n",
       "    </tr>\n",
       "    <tr>\n",
       "      <th>7</th>\n",
       "      <td>Marin Light Rail</td>\n",
       "      <td>29</td>\n",
       "      <td>30</td>\n",
       "      <td>1</td>\n",
       "      <td>40.714613</td>\n",
       "      <td>-74.042798</td>\n",
       "    </tr>\n",
       "    <tr>\n",
       "      <th>8</th>\n",
       "      <td>Paulus Hook</td>\n",
       "      <td>20</td>\n",
       "      <td>19</td>\n",
       "      <td>-1</td>\n",
       "      <td>40.714164</td>\n",
       "      <td>-74.033602</td>\n",
       "    </tr>\n",
       "    <tr>\n",
       "      <th>9</th>\n",
       "      <td>Essex Light Rail</td>\n",
       "      <td>18</td>\n",
       "      <td>11</td>\n",
       "      <td>-7</td>\n",
       "      <td>40.712843</td>\n",
       "      <td>-74.037053</td>\n",
       "    </tr>\n",
       "    <tr>\n",
       "      <th>10</th>\n",
       "      <td>Liberty Light Rail</td>\n",
       "      <td>36</td>\n",
       "      <td>34</td>\n",
       "      <td>-2</td>\n",
       "      <td>40.711343</td>\n",
       "      <td>-74.055734</td>\n",
       "    </tr>\n",
       "  </tbody>\n",
       "</table>\n",
       "</div>"
      ],
      "text/plain": [
       "            Station Name  No. of trip starts  No. of trip ends  \\\n",
       "0         Columbus Drive                  31                28   \n",
       "1         Van Vorst Park                  24                20   \n",
       "2              City Hall                  25                22   \n",
       "3   York St & Marin Blvd                  17                14   \n",
       "4            Exchange Pl                  40                39   \n",
       "5      JC Medical Center                  25                20   \n",
       "6               Grand St                  20                15   \n",
       "7       Marin Light Rail                  29                30   \n",
       "8            Paulus Hook                  20                19   \n",
       "9       Essex Light Rail                  18                11   \n",
       "10    Liberty Light Rail                  36                34   \n",
       "\n",
       "    Bikes in excess   Latitude  Longitude  \n",
       "0                -3  40.718804 -74.038817  \n",
       "1                -4  40.718520 -74.047807  \n",
       "2                -3  40.717783 -74.043917  \n",
       "3                -3  40.716677 -74.042280  \n",
       "4                -1  40.716440 -74.034544  \n",
       "5                -5  40.715586 -74.049726  \n",
       "6                -5  40.715062 -74.037705  \n",
       "7                 1  40.714613 -74.042798  \n",
       "8                -1  40.714164 -74.033602  \n",
       "9                -7  40.712843 -74.037053  \n",
       "10               -2  40.711343 -74.055734  "
      ]
     },
     "execution_count": 370,
     "metadata": {},
     "output_type": "execute_result"
    }
   ],
   "source": [
    "df_nodes"
   ]
  },
  {
   "cell_type": "code",
   "execution_count": 371,
   "metadata": {
    "id": "s9jVS1T4aPls"
   },
   "outputs": [],
   "source": [
    "#Demand\n",
    "diff = np.array(df_nodes['Bikes in excess'])"
   ]
  },
  {
   "cell_type": "code",
   "execution_count": 372,
   "metadata": {},
   "outputs": [
    {
     "data": {
      "text/plain": [
       "array([-3, -4, -3, -3, -1, -5, -5,  1, -1, -7, -2], dtype=int64)"
      ]
     },
     "execution_count": 372,
     "metadata": {},
     "output_type": "execute_result"
    }
   ],
   "source": [
    "diff"
   ]
  },
  {
   "cell_type": "code",
   "execution_count": 373,
   "metadata": {},
   "outputs": [],
   "source": [
    "# Calculate mean latitude and longitude for depot\n",
    "mean_latitude = df_nodes['Latitude'].mean()\n",
    "mean_longitude = df_nodes['Longitude'].mean()\n",
    "# Create the new row as a dictionary\n",
    "new_row = {\n",
    "    'Station Name': 'Depot',\n",
    "    'No. of trip starts': 0,\n",
    "    'No. of trip ends': 0,\n",
    "    'Bikes in excess': 0,\n",
    "    'Latitude': mean_latitude,\n",
    "    'Longitude': mean_longitude\n",
    "}\n",
    "\n",
    "# Create a DataFrame from the new row\n",
    "new_row_df = pd.DataFrame([new_row])\n",
    "\n",
    "# Concatenate the new row DataFrame with the original DataFrame, placing the new row first\n",
    "df_nodes = pd.concat([new_row_df, df_nodes], ignore_index=True)"
   ]
  },
  {
   "cell_type": "markdown",
   "metadata": {},
   "source": [
    "#### Make directory to save results"
   ]
  },
  {
   "cell_type": "code",
   "execution_count": 374,
   "metadata": {},
   "outputs": [],
   "source": [
    "os.makedirs('Cluster_1/results_cluster1', exist_ok=True)"
   ]
  },
  {
   "cell_type": "code",
   "execution_count": 375,
   "metadata": {},
   "outputs": [
    {
     "data": {
      "image/png": "[encoded data removed]",
      "text/plain": [
       "<Figure size 864x576 with 1 Axes>"
      ]
     },
     "metadata": {
      "needs_background": "light"
     },
     "output_type": "display_data"
    }
   ],
   "source": [
    "#Plotting the stations\n",
    "plt.figure(figsize=(12, 8))\n",
    "\n",
    "# Plot all nodes\n",
    "for i, row in df_nodes.iterrows():\n",
    "    if row['Station Name'] == 'Depot':  # Check if the node is a Depot\n",
    "        plt.scatter(row['Longitude'], row['Latitude'], color='red', s=100, label='Depot' if 'Depot' not in plt.gca().get_legend_handles_labels()[1] else \"\")\n",
    "    else:\n",
    "        plt.scatter(row['Longitude'], row['Latitude'], color='blue', s=50, alpha=0.5, label='Station' if 'Station' not in plt.gca().get_legend_handles_labels()[1] else \"\")\n",
    "\n",
    "    # Annotate each node with its station name\n",
    "    plt.annotate(row['Station Name'], (row['Longitude'], row['Latitude']), textcoords=\"offset points\", xytext=(0,10), ha='center')\n",
    "\n",
    "plt.title('Node Locations with Station Names')\n",
    "plt.xlabel('Longitude')\n",
    "plt.ylabel('Latitude')\n",
    "plt.legend()\n",
    "plt.grid(True)\n",
    "plt.savefig('Cluster_1/results_cluster1/nodes_depot.png')\n",
    "plt.show()\n"
   ]
  },
  {
   "cell_type": "code",
   "execution_count": 376,
   "metadata": {},
   "outputs": [],
   "source": [
    "ideal_level=[]"
   ]
  },
  {
   "cell_type": "code",
   "execution_count": 377,
   "metadata": {},
   "outputs": [],
   "source": [
    "rows= (df_nodes.shape[0]-1)"
   ]
  },
  {
   "cell_type": "code",
   "execution_count": 378,
   "metadata": {},
   "outputs": [
    {
     "data": {
      "text/html": [
       "<div>\n",
       "<style scoped>\n",
       "    .dataframe tbody tr th:only-of-type {\n",
       "        vertical-align: middle;\n",
       "    }\n",
       "\n",
       "    .dataframe tbody tr th {\n",
       "        vertical-align: top;\n",
       "    }\n",
       "\n",
       "    .dataframe thead th {\n",
       "        text-align: right;\n",
       "    }\n",
       "</style>\n",
       "<table border=\"1\" class=\"dataframe\">\n",
       "  <thead>\n",
       "    <tr style=\"text-align: right;\">\n",
       "      <th></th>\n",
       "      <th>Station Name</th>\n",
       "      <th>No. of trip starts</th>\n",
       "      <th>No. of trip ends</th>\n",
       "      <th>Bikes in excess</th>\n",
       "      <th>Latitude</th>\n",
       "      <th>Longitude</th>\n",
       "    </tr>\n",
       "  </thead>\n",
       "  <tbody>\n",
       "    <tr>\n",
       "      <th>0</th>\n",
       "      <td>Depot</td>\n",
       "      <td>0</td>\n",
       "      <td>0</td>\n",
       "      <td>0</td>\n",
       "      <td>40.715621</td>\n",
       "      <td>-74.042180</td>\n",
       "    </tr>\n",
       "    <tr>\n",
       "      <th>1</th>\n",
       "      <td>Columbus Drive</td>\n",
       "      <td>31</td>\n",
       "      <td>28</td>\n",
       "      <td>-3</td>\n",
       "      <td>40.718804</td>\n",
       "      <td>-74.038817</td>\n",
       "    </tr>\n",
       "    <tr>\n",
       "      <th>2</th>\n",
       "      <td>Van Vorst Park</td>\n",
       "      <td>24</td>\n",
       "      <td>20</td>\n",
       "      <td>-4</td>\n",
       "      <td>40.718520</td>\n",
       "      <td>-74.047807</td>\n",
       "    </tr>\n",
       "    <tr>\n",
       "      <th>3</th>\n",
       "      <td>City Hall</td>\n",
       "      <td>25</td>\n",
       "      <td>22</td>\n",
       "      <td>-3</td>\n",
       "      <td>40.717783</td>\n",
       "      <td>-74.043917</td>\n",
       "    </tr>\n",
       "    <tr>\n",
       "      <th>4</th>\n",
       "      <td>York St &amp; Marin Blvd</td>\n",
       "      <td>17</td>\n",
       "      <td>14</td>\n",
       "      <td>-3</td>\n",
       "      <td>40.716677</td>\n",
       "      <td>-74.042280</td>\n",
       "    </tr>\n",
       "    <tr>\n",
       "      <th>5</th>\n",
       "      <td>Exchange Pl</td>\n",
       "      <td>40</td>\n",
       "      <td>39</td>\n",
       "      <td>-1</td>\n",
       "      <td>40.716440</td>\n",
       "      <td>-74.034544</td>\n",
       "    </tr>\n",
       "    <tr>\n",
       "      <th>6</th>\n",
       "      <td>JC Medical Center</td>\n",
       "      <td>25</td>\n",
       "      <td>20</td>\n",
       "      <td>-5</td>\n",
       "      <td>40.715586</td>\n",
       "      <td>-74.049726</td>\n",
       "    </tr>\n",
       "    <tr>\n",
       "      <th>7</th>\n",
       "      <td>Grand St</td>\n",
       "      <td>20</td>\n",
       "      <td>15</td>\n",
       "      <td>-5</td>\n",
       "      <td>40.715062</td>\n",
       "      <td>-74.037705</td>\n",
       "    </tr>\n",
       "    <tr>\n",
       "      <th>8</th>\n",
       "      <td>Marin Light Rail</td>\n",
       "      <td>29</td>\n",
       "      <td>30</td>\n",
       "      <td>1</td>\n",
       "      <td>40.714613</td>\n",
       "      <td>-74.042798</td>\n",
       "    </tr>\n",
       "    <tr>\n",
       "      <th>9</th>\n",
       "      <td>Paulus Hook</td>\n",
       "      <td>20</td>\n",
       "      <td>19</td>\n",
       "      <td>-1</td>\n",
       "      <td>40.714164</td>\n",
       "      <td>-74.033602</td>\n",
       "    </tr>\n",
       "    <tr>\n",
       "      <th>10</th>\n",
       "      <td>Essex Light Rail</td>\n",
       "      <td>18</td>\n",
       "      <td>11</td>\n",
       "      <td>-7</td>\n",
       "      <td>40.712843</td>\n",
       "      <td>-74.037053</td>\n",
       "    </tr>\n",
       "    <tr>\n",
       "      <th>11</th>\n",
       "      <td>Liberty Light Rail</td>\n",
       "      <td>36</td>\n",
       "      <td>34</td>\n",
       "      <td>-2</td>\n",
       "      <td>40.711343</td>\n",
       "      <td>-74.055734</td>\n",
       "    </tr>\n",
       "  </tbody>\n",
       "</table>\n",
       "</div>"
      ],
      "text/plain": [
       "            Station Name  No. of trip starts  No. of trip ends  \\\n",
       "0                  Depot                   0                 0   \n",
       "1         Columbus Drive                  31                28   \n",
       "2         Van Vorst Park                  24                20   \n",
       "3              City Hall                  25                22   \n",
       "4   York St & Marin Blvd                  17                14   \n",
       "5            Exchange Pl                  40                39   \n",
       "6      JC Medical Center                  25                20   \n",
       "7               Grand St                  20                15   \n",
       "8       Marin Light Rail                  29                30   \n",
       "9            Paulus Hook                  20                19   \n",
       "10      Essex Light Rail                  18                11   \n",
       "11    Liberty Light Rail                  36                34   \n",
       "\n",
       "    Bikes in excess   Latitude  Longitude  \n",
       "0                 0  40.715621 -74.042180  \n",
       "1                -3  40.718804 -74.038817  \n",
       "2                -4  40.718520 -74.047807  \n",
       "3                -3  40.717783 -74.043917  \n",
       "4                -3  40.716677 -74.042280  \n",
       "5                -1  40.716440 -74.034544  \n",
       "6                -5  40.715586 -74.049726  \n",
       "7                -5  40.715062 -74.037705  \n",
       "8                 1  40.714613 -74.042798  \n",
       "9                -1  40.714164 -74.033602  \n",
       "10               -7  40.712843 -74.037053  \n",
       "11               -2  40.711343 -74.055734  "
      ]
     },
     "execution_count": 378,
     "metadata": {},
     "output_type": "execute_result"
    }
   ],
   "source": [
    "df_nodes"
   ]
  },
  {
   "cell_type": "code",
   "execution_count": 379,
   "metadata": {},
   "outputs": [],
   "source": [
    "cap=[]"
   ]
  },
  {
   "cell_type": "code",
   "execution_count": 380,
   "metadata": {},
   "outputs": [
    {
     "data": {
      "text/plain": [
       "[[40.71880361715, -74.03881661250122],\n",
       " [40.71852019277083, -74.04780710466667],\n",
       " [40.71778320534079, -74.04391686793159],\n",
       " [40.71667655433856, -74.04228038533282],\n",
       " [40.71644015157092, -74.0345441003428],\n",
       " [40.71558622924017, -74.04972617564039],\n",
       " [40.71506219260593, -74.03770460188105],\n",
       " [40.7146127583203, -74.0427978857271],\n",
       " [40.71416427694101, -74.03360184187169],\n",
       " [40.7128429452931, -74.0370525100546],\n",
       " [40.71134294549493, -74.0557343385527]]"
      ]
     },
     "execution_count": 380,
     "metadata": {},
     "output_type": "execute_result"
    }
   ],
   "source": [
    "stations"
   ]
  },
  {
   "cell_type": "code",
   "execution_count": 381,
   "metadata": {
    "id": "_jqkRalOaPls"
   },
   "outputs": [],
   "source": [
    "#It will be assumed that each station has a dock capacity of 15\n",
    "#cap= np.array([15] * (n-1)) #doesn't Includes the depot station\n",
    "\n",
    "cap=np.full((df_nodes.shape[0]-1),15)\n",
    "cap= np.insert(cap,0,0)\n",
    "\n",
    "ideal_level = np.floor(cap * 0.9) #ideal level is at 90%\n",
    "ideal_level = ideal_level.astype(int)\n",
    "\n",
    "\n",
    "#Existing number of bikes at stations, list of integers of length n \n",
    "#This is assumed based on the ideal level (10 bikes in this case) a station should have and the demand\n",
    "diff= np.insert(diff,0,0)\n",
    "E = np.floor(cap * 0.9) + diff\n",
    "E = E.astype(int)\n",
    "\n",
    "#Manhattan Distance\n",
    "#@ith WGS 1984 coordinate projection 111, 1 degree = 111 KM. Could be better to calculate osmnx shortest path distance!\n",
    "d_m = [[111 * abs(i[0] - j[0]) + 111 * abs(i[1] - j[1]) for i in stations] for j in stations]\n",
    "\n",
    "threshold = 0\n",
    "I = [[ideal_level[i] - threshold, ideal_level[i] + threshold] for i in range((df_nodes.shape[0]))] #doesnt considers depot\n",
    "\n",
    "\n",
    "#Capacity of the truck\n",
    "C = 33\n",
    "\n",
    "#Binary values indicates surplus/shortage at staion i\n",
    "s1 = [int(E[i] - I[i][1] > 0) for i in range((df_nodes.shape[0]))] #surplus\n",
    "s2 = [int(I[i][0] - E[i] > 0) for i in range((df_nodes.shape[0]))] #shortage\n",
    "\n",
    "\n",
    "CL= 16 * math.pow(10, -6) #Carbon trade cost ICV and EV (USD/gCO2)\n",
    "co2_ICV= 243.1 #Carbon emission factor of an ICV (gCO2/km)\n",
    "co2_EV= 188.1  #Carbon emission factor of an EV (gCO2/km)\n",
    "\n",
    "cost_per_km_gasoline = 3.89 / (25 * (1.609344))\n",
    "cost_per_kWh = 0.30  # Average cost of electricity per kWh in USD\n",
    "consumption_rate_kWh_per_km = 0.18  # Average electric vehicle consumption in kWh per kilometer\n",
    "electricity_cost_per_km = consumption_rate_kWh_per_km * cost_per_kWh\n",
    "electricity_cost_per_km\n",
    "\n",
    "\n",
    "fuel_ICV=  cost_per_km_gasoline #fuel cost per km. $3.89 is the average gasoline price per gallon in NY. Assuming a fuel efficiency of 25 miles per gallon. \n",
    "elec_EV= electricity_cost_per_km \n",
    "\n",
    "\n",
    "#Obj parameters: wages and costs\n",
    "h = 0.875 #cost per bike-rebalanced (wage for the worker)\n",
    "g = (cost_per_km_gasoline + (CL*co2_ICV))\n",
    "g1= (electricity_cost_per_km + (CL*co2_EV))"
   ]
  },
  {
   "cell_type": "code",
   "execution_count": 382,
   "metadata": {},
   "outputs": [
    {
     "name": "stdout",
     "output_type": "stream",
     "text": [
      "0.10057495751212915 0.0570096\n"
     ]
    }
   ],
   "source": [
    "print(g,g1)"
   ]
  },
  {
   "cell_type": "code",
   "execution_count": 383,
   "metadata": {},
   "outputs": [
    {
     "data": {
      "text/plain": [
       "11"
      ]
     },
     "execution_count": 383,
     "metadata": {},
     "output_type": "execute_result"
    }
   ],
   "source": [
    "n"
   ]
  },
  {
   "cell_type": "code",
   "execution_count": 384,
   "metadata": {},
   "outputs": [
    {
     "data": {
      "text/plain": [
       "1.6e-05"
      ]
     },
     "execution_count": 384,
     "metadata": {},
     "output_type": "execute_result"
    }
   ],
   "source": [
    "result = 16 * math.pow(10, -6)\n",
    "result"
   ]
  },
  {
   "cell_type": "code",
   "execution_count": 385,
   "metadata": {},
   "outputs": [
    {
     "data": {
      "text/plain": [
       "12"
      ]
     },
     "execution_count": 385,
     "metadata": {},
     "output_type": "execute_result"
    }
   ],
   "source": [
    "len(cap)\n",
    "\n",
    "len(E)\n",
    "len(I)\n",
    "len(I)"
   ]
  },
  {
   "cell_type": "code",
   "execution_count": 386,
   "metadata": {},
   "outputs": [
    {
     "data": {
      "text/plain": [
       "12"
      ]
     },
     "execution_count": 386,
     "metadata": {},
     "output_type": "execute_result"
    }
   ],
   "source": [
    "len(s2)"
   ]
  },
  {
   "cell_type": "code",
   "execution_count": 387,
   "metadata": {},
   "outputs": [
    {
     "data": {
      "text/html": [
       "<div>\n",
       "<style scoped>\n",
       "    .dataframe tbody tr th:only-of-type {\n",
       "        vertical-align: middle;\n",
       "    }\n",
       "\n",
       "    .dataframe tbody tr th {\n",
       "        vertical-align: top;\n",
       "    }\n",
       "\n",
       "    .dataframe thead th {\n",
       "        text-align: right;\n",
       "    }\n",
       "</style>\n",
       "<table border=\"1\" class=\"dataframe\">\n",
       "  <thead>\n",
       "    <tr style=\"text-align: right;\">\n",
       "      <th></th>\n",
       "      <th>Capacity</th>\n",
       "      <th>Ideal Level</th>\n",
       "      <th>Existing_bikes</th>\n",
       "      <th>Demand</th>\n",
       "      <th>Surplus_station</th>\n",
       "      <th>Shortage_station</th>\n",
       "    </tr>\n",
       "  </thead>\n",
       "  <tbody>\n",
       "    <tr>\n",
       "      <th>0</th>\n",
       "      <td>0</td>\n",
       "      <td>[0, 0]</td>\n",
       "      <td>0</td>\n",
       "      <td>0</td>\n",
       "      <td>0</td>\n",
       "      <td>0</td>\n",
       "    </tr>\n",
       "    <tr>\n",
       "      <th>1</th>\n",
       "      <td>15</td>\n",
       "      <td>[13, 13]</td>\n",
       "      <td>10</td>\n",
       "      <td>-3</td>\n",
       "      <td>0</td>\n",
       "      <td>1</td>\n",
       "    </tr>\n",
       "    <tr>\n",
       "      <th>2</th>\n",
       "      <td>15</td>\n",
       "      <td>[13, 13]</td>\n",
       "      <td>9</td>\n",
       "      <td>-4</td>\n",
       "      <td>0</td>\n",
       "      <td>1</td>\n",
       "    </tr>\n",
       "    <tr>\n",
       "      <th>3</th>\n",
       "      <td>15</td>\n",
       "      <td>[13, 13]</td>\n",
       "      <td>10</td>\n",
       "      <td>-3</td>\n",
       "      <td>0</td>\n",
       "      <td>1</td>\n",
       "    </tr>\n",
       "    <tr>\n",
       "      <th>4</th>\n",
       "      <td>15</td>\n",
       "      <td>[13, 13]</td>\n",
       "      <td>10</td>\n",
       "      <td>-3</td>\n",
       "      <td>0</td>\n",
       "      <td>1</td>\n",
       "    </tr>\n",
       "    <tr>\n",
       "      <th>5</th>\n",
       "      <td>15</td>\n",
       "      <td>[13, 13]</td>\n",
       "      <td>12</td>\n",
       "      <td>-1</td>\n",
       "      <td>0</td>\n",
       "      <td>1</td>\n",
       "    </tr>\n",
       "    <tr>\n",
       "      <th>6</th>\n",
       "      <td>15</td>\n",
       "      <td>[13, 13]</td>\n",
       "      <td>8</td>\n",
       "      <td>-5</td>\n",
       "      <td>0</td>\n",
       "      <td>1</td>\n",
       "    </tr>\n",
       "    <tr>\n",
       "      <th>7</th>\n",
       "      <td>15</td>\n",
       "      <td>[13, 13]</td>\n",
       "      <td>8</td>\n",
       "      <td>-5</td>\n",
       "      <td>0</td>\n",
       "      <td>1</td>\n",
       "    </tr>\n",
       "    <tr>\n",
       "      <th>8</th>\n",
       "      <td>15</td>\n",
       "      <td>[13, 13]</td>\n",
       "      <td>14</td>\n",
       "      <td>1</td>\n",
       "      <td>1</td>\n",
       "      <td>0</td>\n",
       "    </tr>\n",
       "    <tr>\n",
       "      <th>9</th>\n",
       "      <td>15</td>\n",
       "      <td>[13, 13]</td>\n",
       "      <td>12</td>\n",
       "      <td>-1</td>\n",
       "      <td>0</td>\n",
       "      <td>1</td>\n",
       "    </tr>\n",
       "    <tr>\n",
       "      <th>10</th>\n",
       "      <td>15</td>\n",
       "      <td>[13, 13]</td>\n",
       "      <td>6</td>\n",
       "      <td>-7</td>\n",
       "      <td>0</td>\n",
       "      <td>1</td>\n",
       "    </tr>\n",
       "    <tr>\n",
       "      <th>11</th>\n",
       "      <td>15</td>\n",
       "      <td>[13, 13]</td>\n",
       "      <td>11</td>\n",
       "      <td>-2</td>\n",
       "      <td>0</td>\n",
       "      <td>1</td>\n",
       "    </tr>\n",
       "  </tbody>\n",
       "</table>\n",
       "</div>"
      ],
      "text/plain": [
       "    Capacity Ideal Level  Existing_bikes  Demand  Surplus_station  \\\n",
       "0          0      [0, 0]               0       0                0   \n",
       "1         15    [13, 13]              10      -3                0   \n",
       "2         15    [13, 13]               9      -4                0   \n",
       "3         15    [13, 13]              10      -3                0   \n",
       "4         15    [13, 13]              10      -3                0   \n",
       "5         15    [13, 13]              12      -1                0   \n",
       "6         15    [13, 13]               8      -5                0   \n",
       "7         15    [13, 13]               8      -5                0   \n",
       "8         15    [13, 13]              14       1                1   \n",
       "9         15    [13, 13]              12      -1                0   \n",
       "10        15    [13, 13]               6      -7                0   \n",
       "11        15    [13, 13]              11      -2                0   \n",
       "\n",
       "    Shortage_station  \n",
       "0                  0  \n",
       "1                  1  \n",
       "2                  1  \n",
       "3                  1  \n",
       "4                  1  \n",
       "5                  1  \n",
       "6                  1  \n",
       "7                  1  \n",
       "8                  0  \n",
       "9                  1  \n",
       "10                 1  \n",
       "11                 1  "
      ]
     },
     "execution_count": 387,
     "metadata": {},
     "output_type": "execute_result"
    }
   ],
   "source": [
    "parameters_df = pd.DataFrame({\n",
    "    'Capacity': cap,\n",
    "    'Ideal Level': I,\n",
    "    'Existing_bikes': E,\n",
    "    'Demand': diff,\n",
    "    \"Surplus_station\": s1, #E[i] - I[i]\n",
    "    \"Shortage_station\": s2  #I[i] - E[i]\n",
    "})\n",
    "parameters_df"
   ]
  },
  {
   "cell_type": "markdown",
   "metadata": {
    "id": "R___t9oz4FyJ"
   },
   "source": [
    "### Variables\n",
    "- $x_{i,j}$: A binary variable that indicates the relocation truck passes through station $i$ to station $j$ if $x_{i,j} = 1$, and zero otherwise.\n",
    "- $c_{i}$: The current number of bikes on the truck before arriving at station $i$.\n",
    "- $d_{i}$: The number of bikes the truck drops off at station $i$.\n",
    "- $p_{i}$: The number of bikes the truck picks up at station $i$.\n",
    "\n",
    "### Dummy Variables\n",
    "- $z_i$: Non-decreasing variables to ensure continuity of the route, for $i \\in \\{1 \\dots n\\}$.\n",
    "\n",
    "\n",
    "### Other Notations\n",
    "- $B$: The total number of bikes that are relocated.\n",
    "- $D$: The total distance that the truck has traveled.\n",
    "- $V$: The total number of stations visited (for record tracking purpose ONLY)."
   ]
  },
  {
   "cell_type": "code",
   "execution_count": 388,
   "metadata": {
    "id": "l4BUmCLAaPls"
   },
   "outputs": [],
   "source": [
    "#Profit Maximization Model\n",
    "prob = Model('BIXI')\n",
    "\n",
    "x = prob.addVars(n, n, vtype='B', name = 'x_i,j') #BINARY: x_{i,j}\n",
    "c = prob.addVars(n,lb = 0, vtype='I', name = 'current_bikes_i') #INTEGER: c_i \n",
    "d = prob.addVars(n,lb = 0, vtype='I', name = 'bikes_dropped_i') #INTEGER: d_i\n",
    "p = prob.addVars(n,lb = 0, vtype='I', name = 'bikes_picked_i') #INTEGER: p_i\n",
    "z = prob.addVars(n,lb = 0, name = 'z_continous')\n",
    "\n",
    "B = prob.addVar(lb = 0, vtype='I', name = 'total_bikes_rebalanced') #INTEGER: total number of bikes rebalanced\n",
    "D = prob.addVar(lb = 0, name = 'D') #INTEGER: total distance travelled by truck\n",
    "\n",
    "#Variable to check accuracy\n",
    "V = prob.addVar(lb = 0, vtype='I', name = 'total_stations_visited') #INTEGER, total number of stations visited\n",
    "d_sum = prob.addVar(lb = 0, vtype='I', name = 'total_bikes_dropped_off') #INTEGER, total number of bikes dropped off\n",
    "p_sum = prob.addVar(lb = 0, vtype='I', name = 'total_bikes_picked') #INTEGER, total number of bikes picked up"
   ]
  },
  {
   "cell_type": "markdown",
   "metadata": {
    "id": "Q7AuY4HA4FyJ"
   },
   "source": [
    "### Assumptions\n",
    "- Routing\n",
    "  - 1. Each station is visited at most once. (Routing-1)\n",
    "  - 2. The truck starts at station 0 and ends at station 0. (Routing-2)\n",
    "  - 3. The distance will be calcuated using Manhattan distance.\n",
    "- Rebalancing\n",
    "  - 1. The truck arrives at station with number of bikes equal to the toal demand of the cluster.\n",
    "  - 2. The operational cost has three components, the wage for the worker, gas cost, electricity cost\n",
    " "
   ]
  },
  {
   "cell_type": "markdown",
   "metadata": {
    "id": "CkJtvwzn4FyJ"
   },
   "source": [
    "### Variations\n",
    "- fixed subpath on bike stations located near hospitals, extra cost for disinfecting during COVID-19\n",
    "- Nonlinear objective"
   ]
  },
  {
   "cell_type": "markdown",
   "metadata": {
    "id": "wJHGbsCeaPls"
   },
   "source": [
    "### Objective\n",
    "$$\\text{Minimize } \\big( h * B + g * D)$$"
   ]
  },
  {
   "cell_type": "code",
   "execution_count": 389,
   "metadata": {
    "id": "ffQYscJDaPls"
   },
   "outputs": [],
   "source": [
    "obj = h*B + g*D\n",
    "prob.setObjective(obj, GRB.MINIMIZE)"
   ]
  },
  {
   "cell_type": "markdown",
   "metadata": {
    "id": "buLxuQbf4FyJ"
   },
   "source": [
    "### Constraints - Routing\n",
    "\n",
    "$$\\begin{align}\n",
    "\\sum_i x_{ij} & \\le 1 \\hspace{0.5cm} i = \\{2 \\dots n\\} \\tag{Routing-1.1}\\\\\n",
    "\\sum_j x_{ij} & \\le 1 \\hspace{0.5cm} j = \\{2 \\dots n\\} \\tag{Routing-1.2}\\\\\n",
    "\\sum_i x_{ij} & = \\sum_i x_{ji} \\hspace{0.5cm} \\tag{Routing-1.3}\\\\\n",
    "\\sum_i x_{ii} & = 0 \\hspace{0.5cm} \\tag{Routing-1.4}\\\\\n",
    "\\sum_i x_{i1} & = 1 \\tag{Routing-2.1}\\\\\n",
    "\\sum_j x_{1j} & = 1 \\tag{Routing-2.2}\\\\\n",
    "\\sum_{i,j} x_{ij} d_{ij} & = D  \\tag{Total distance}\\\\\n",
    "z_j & \\ge z_i + 1 - 1996(1 - x_{ij}) \\tag{Continuity of route}\\\\\n",
    "\\end{align}$$"
   ]
  },
  {
   "cell_type": "code",
   "execution_count": 390,
   "metadata": {},
   "outputs": [
    {
     "data": {
      "text/plain": [
       "10"
      ]
     },
     "execution_count": 390,
     "metadata": {},
     "output_type": "execute_result"
    }
   ],
   "source": [
    "n-1"
   ]
  },
  {
   "cell_type": "code",
   "execution_count": 391,
   "metadata": {},
   "outputs": [
    {
     "data": {
      "text/plain": [
       "11"
      ]
     },
     "execution_count": 391,
     "metadata": {},
     "output_type": "execute_result"
    }
   ],
   "source": [
    "n"
   ]
  },
  {
   "cell_type": "code",
   "execution_count": 392,
   "metadata": {
    "id": "vKdcER60aPls"
   },
   "outputs": [],
   "source": [
    "#---Routing---\n",
    "\n",
    "#Routing-1.1\n",
    "for j in range(n):\n",
    "    prob.addConstr(quicksum(x[i,j] for i in range(n)) <= 1)\n",
    "    \n",
    "#Routing-1.2    \n",
    "for i in range(n):\n",
    "    prob.addConstr(quicksum(x[i,j] for j in range(n)) <= 1)\n",
    "\n",
    "#Routing-1.3\n",
    "for i in range(n):\n",
    "    prob.addConstr(quicksum(x[i,j] for j in range(n)) == quicksum(x[j,i] for j in range(n))) \n",
    "\n",
    "#Routing-1.4\n",
    "for i in range(1,n):\n",
    "    prob.addConstr(x[i,i] == 0)    \n",
    "    \n",
    "#Routing-2.1\n",
    "# prob.addConstr(quicksum(x[i,0] for i in range(n)) == 1)  \n",
    "\n",
    "#Routing-2.2\n",
    "# prob.addConstr(quicksum(x[0,i] for i in range(n)) == 1)\n",
    "\n",
    "#Total Distance\n",
    "prob.addConstr(quicksum(x[i,j] * d_m[i][j] for i in range(n) for j in range(n)) == D)\n",
    "\n",
    "#Route Continuity\n",
    "#Avoid sub trips by implementing a non-decreasing variable z\n",
    "#When the truck travels from i to j, z[j] > z[i]\n",
    "for i in range(n):\n",
    "    for j in range(1,n):\n",
    "        prob.addConstr(z[j] >= z[i] + 1 - 1996 * (1 - x[i,j]))"
   ]
  },
  {
   "cell_type": "markdown",
   "metadata": {
    "id": "6Ir--2ISaPls"
   },
   "source": [
    "### Constraints - Rebalancing(working in progress)\n",
    "\n",
    "$$\\begin{align}\n",
    "c_i & \\le C \\tag{Capacity of the truck}\\\\\n",
    "s_i^- d_i + s_i^+ p_i & = 0 \\tag{Pick up XOR Drop off at any station}\\\\\n",
    "p_i & \\le E_i \\tag{Pick up within ideal threshold}\\\\\n",
    "\\sum_i d_i & \\le \\sum_i p_i \\tag{Drop off LESS THAN pick up}\\\\\n",
    "\\sum_i d_i + p_i & = B \\tag{Total amount of bikes rebalanced}\\\\\n",
    "d_j + p_j & \\ge \\sum_i x_{ij} \\tag{A station is visted when necessary}\\\\\n",
    "c_j + d_j + p_j + \\alpha_j & \\le 1996\\sum_i x_{ij} \\tag{A station is visted when necessary}\\\\\n",
    "c_j & \\ge c_i - d_i + p_i - C(1 - x_{ij}) \\hspace{0.5cm} \\tag{Continuity of truck inventory - 1}\\\\\n",
    "c_j & \\le c_i - d_i + p_i - C(1 - x_{ij}) \\hspace{0.5cm} \\tag{Continuity of truck inventory - 2}\\\\\n",
    "\\end{align}$$"
   ]
  },
  {
   "cell_type": "code",
   "execution_count": 393,
   "metadata": {},
   "outputs": [
    {
     "data": {
      "text/plain": [
       "range(1, 11)"
      ]
     },
     "execution_count": 393,
     "metadata": {},
     "output_type": "execute_result"
    }
   ],
   "source": [
    "range(1,n)"
   ]
  },
  {
   "cell_type": "code",
   "execution_count": 394,
   "metadata": {
    "id": "iMsLgHuVaPls"
   },
   "outputs": [],
   "source": [
    "#---Rebalancing---     \n",
    "        \n",
    "#Truck arrives at station 1 with 0 bikes\n",
    "prob.addConstr(c[0] == 33)\n",
    "\n",
    "\n",
    "for i in range(1,n):\n",
    "    #Pick up XOR Drop off at any station\n",
    "    prob.addConstr(s1[i] * d[i] + s2[i] * p[i] == 0)\n",
    "\n",
    "    #Capacity of the truck\n",
    "    prob.addConstr(c[i] <= C)\n",
    "    \n",
    "    #pick up within ideal threshold\n",
    "    prob.addConstr(p[i] <= E[i])\n",
    "    prob.addConstr(p[i] >= E[i] - I[i][1])\n",
    "    \n",
    "    #drop off within ideal threshold\n",
    "    prob.addConstr(d[i] <= cap[i] - E[i])\n",
    "    prob.addConstr(d[i] >= (I[i][0] - E[i])) #nonbinding when surplus  \n",
    "    \n",
    "#Total amount of bikes rebalanced\n",
    "prob.addConstr(quicksum(p[i] + d[i] for i in range(n)) == B)\n",
    "\n",
    "#A station is visted when necessary (synergy with the route)\n",
    "for i in range(1,n):\n",
    "    prob.addConstr(d[i] + p[i] >= quicksum(x[j,i] for j in range(n)))\n",
    "    #when station i is not visited LHS = RHS = 0\n",
    "    #when station i is visited \n",
    "    prob.addConstr(c[i] + d[i] + p[i] + z[i] <= 2 * C * quicksum(x[j,i] for j in range(n)))\n",
    "                   \n",
    "\n",
    "#Continuity of truck inventory\n",
    "for i in range(n):\n",
    "    for j in range(1,n):\n",
    "        prob.addConstr(c[j] <= c[i] - d[i] + p[i] + C * (1 - x[i,j]))\n",
    "        prob.addConstr(c[j] >= c[i] - d[i] + p[i] - C * (1 - x[i,j]))"
   ]
  },
  {
   "cell_type": "code",
   "execution_count": 395,
   "metadata": {},
   "outputs": [
    {
     "data": {
      "text/plain": [
       "[0, 0, 0, 0, 0, 0, 0, 0, 1, 0, 0, 0]"
      ]
     },
     "execution_count": 395,
     "metadata": {},
     "output_type": "execute_result"
    }
   ],
   "source": [
    "s1"
   ]
  },
  {
   "cell_type": "code",
   "execution_count": 396,
   "metadata": {},
   "outputs": [],
   "source": [
    "prob.update()"
   ]
  },
  {
   "cell_type": "code",
   "execution_count": 397,
   "metadata": {
    "id": "kE72kwP0aPls",
    "outputId": "234ee313-b06f-4cc8-beee-49fc1b5bdeab"
   },
   "outputs": [
    {
     "data": {
      "text/plain": [
       "<gurobi.Constr *Awaiting Model Update*>"
      ]
     },
     "execution_count": 397,
     "metadata": {},
     "output_type": "execute_result"
    }
   ],
   "source": [
    "#---Variables for record tracking---           \n",
    "prob.addConstr(quicksum(x[i,j] for i in range(n) for j in range(n)) == V)    \n",
    "prob.addConstr(quicksum(d[i] for i in range(n)) == d_sum)\n",
    "prob.addConstr(quicksum(p[i] for i in range(n)) == p_sum)"
   ]
  },
  {
   "cell_type": "code",
   "execution_count": 398,
   "metadata": {},
   "outputs": [
    {
     "data": {
      "text/plain": [
       "[[40.71880361715, -74.03881661250122],\n",
       " [40.71852019277083, -74.04780710466667],\n",
       " [40.71778320534079, -74.04391686793159],\n",
       " [40.71667655433856, -74.04228038533282],\n",
       " [40.71644015157092, -74.0345441003428],\n",
       " [40.71558622924017, -74.04972617564039],\n",
       " [40.71506219260593, -74.03770460188105],\n",
       " [40.7146127583203, -74.0427978857271],\n",
       " [40.71416427694101, -74.03360184187169],\n",
       " [40.7128429452931, -74.0370525100546],\n",
       " [40.71134294549493, -74.0557343385527]]"
      ]
     },
     "execution_count": 398,
     "metadata": {},
     "output_type": "execute_result"
    }
   ],
   "source": [
    "stations"
   ]
  },
  {
   "cell_type": "code",
   "execution_count": 399,
   "metadata": {},
   "outputs": [
    {
     "data": {
      "text/plain": [
       "456"
      ]
     },
     "execution_count": 399,
     "metadata": {},
     "output_type": "execute_result"
    }
   ],
   "source": [
    "\n",
    "prob.NumVars\n",
    "prob.NumConstrs"
   ]
  },
  {
   "cell_type": "code",
   "execution_count": 400,
   "metadata": {
    "id": "Ndo2DYUPaPlt",
    "outputId": "d884d1ad-9e27-4a95-87a3-5b6314e1ab6d"
   },
   "outputs": [
    {
     "name": "stdout",
     "output_type": "stream",
     "text": [
      "Gurobi Optimizer version 11.0.1 build v11.0.1rc0 (win64 - Windows 11.0 (22631.2))\n",
      "\n",
      "CPU model: 11th Gen Intel(R) Core(TM) i5-1135G7 @ 2.40GHz, instruction set [SSE2|AVX|AVX2|AVX512]\n",
      "Thread count: 4 physical cores, 8 logical processors, using up to 8 threads\n",
      "\n",
      "Optimize a model with 459 rows, 170 columns and 2463 nonzeros\n",
      "Model fingerprint: 0xd251dfce\n",
      "Variable types: 12 continuous, 158 integer (121 binary)\n",
      "Coefficient statistics:\n",
      "  Matrix range     [3e-01, 2e+03]\n",
      "  Objective range  [6e-02, 9e-01]\n",
      "  Bounds range     [1e+00, 1e+00]\n",
      "  RHS range        [1e+00, 2e+03]\n",
      "Presolve removed 136 rows and 28 columns\n",
      "Presolve time: 0.02s\n",
      "Presolved: 323 rows, 142 columns, 1580 nonzeros\n",
      "Variable types: 10 continuous, 132 integer (110 binary)\n",
      "Found heuristic solution: objective 30.5428743\n",
      "\n",
      "Root relaxation: objective 2.918427e+01, 42 iterations, 0.00 seconds (0.00 work units)\n",
      "\n",
      "    Nodes    |    Current Node    |     Objective Bounds      |     Work\n",
      " Expl Unexpl |  Obj  Depth IntInf | Incumbent    BestBd   Gap | It/Node Time\n",
      "\n",
      "     0     0   29.18427    0   12   30.54287   29.18427  4.45%     -    0s\n",
      "H    0     0                      30.2906350   29.18427  3.65%     -    0s\n",
      "H    0     0                      29.4156350   29.18427  0.79%     -    0s\n",
      "     0     0   29.22445    0   20   29.41564   29.22445  0.65%     -    0s\n",
      "H    0     0                      29.3857179   29.22749  0.54%     -    0s\n",
      "H    0     0                      29.3556659   29.22749  0.44%     -    0s\n",
      "     0     0   29.22749    0   24   29.35567   29.22749  0.44%     -    0s\n",
      "     0     0   29.22749    0   25   29.35567   29.22749  0.44%     -    0s\n",
      "     0     0   29.22749    0   27   29.35567   29.22749  0.44%     -    0s\n",
      "H    0     0                      29.3475874   29.22749  0.41%     -    0s\n",
      "H    0     0                      29.3363915   29.22749  0.37%     -    0s\n",
      "     0     0   29.23356    0   26   29.33639   29.23356  0.35%     -    0s\n",
      "H    0     0                      29.3336247   29.23356  0.34%     -    0s\n",
      "H    0     0                      29.3197015   29.23356  0.29%     -    0s\n",
      "     0     0   29.23356    0   25   29.31970   29.23356  0.29%     -    0s\n",
      "H    0     0                      29.3132758   29.23711  0.26%     -    0s\n",
      "H    0     0                      29.3073811   29.23711  0.24%     -    0s\n",
      "     0     0   29.23730    0   26   29.30738   29.23730  0.24%     -    0s\n",
      "     0     0   29.24068    0   25   29.30738   29.24068  0.23%     -    0s\n",
      "H    0     0                      29.3009554   29.24378  0.20%     -    0s\n",
      "     0     0   29.24669    0   28   29.30096   29.24669  0.19%     -    0s\n",
      "     0     0   29.24751    0   30   29.30096   29.24751  0.18%     -    0s\n",
      "     0     0   29.25030    0   30   29.30096   29.25030  0.17%     -    0s\n",
      "     0     0   29.25049    0   30   29.30096   29.25049  0.17%     -    0s\n",
      "     0     0   29.25049    0   12   29.30096   29.25049  0.17%     -    0s\n",
      "     0     0   29.25049    0   25   29.30096   29.25049  0.17%     -    0s\n",
      "     0     0   29.25049    0   33   29.30096   29.25049  0.17%     -    0s\n",
      "     0     0   29.25049    0   31   29.30096   29.25049  0.17%     -    0s\n",
      "     0     0   29.25049    0   27   29.30096   29.25049  0.17%     -    0s\n",
      "     0     0   29.25049    0   28   29.30096   29.25049  0.17%     -    0s\n",
      "     0     0   29.25049    0   28   29.30096   29.25049  0.17%     -    0s\n",
      "     0     0   29.25049    0   27   29.30096   29.25049  0.17%     -    0s\n",
      "     0     0   29.25049    0   21   29.30096   29.25049  0.17%     -    0s\n",
      "     0     0   29.25177    0   24   29.30096   29.25177  0.17%     -    0s\n",
      "     0     0   29.25377    0   26   29.30096   29.25377  0.16%     -    0s\n",
      "     0     0   29.25968    0   27   29.30096   29.25968  0.14%     -    0s\n",
      "     0     0   29.25969    0   27   29.30096   29.25969  0.14%     -    0s\n",
      "     0     0   29.25969    0   27   29.30096   29.25969  0.14%     -    0s\n",
      "     0     2   29.25969    0   25   29.30096   29.25969  0.14%     -    0s\n",
      "\n",
      "Cutting planes:\n",
      "  Learned: 4\n",
      "  Gomory: 1\n",
      "  Cover: 3\n",
      "  Implied bound: 13\n",
      "  Clique: 1\n",
      "  MIR: 25\n",
      "  Inf proof: 1\n",
      "  Mod-K: 1\n",
      "  RLT: 2\n",
      "  Relax-and-lift: 10\n",
      "\n",
      "Explored 404 nodes (4293 simplex iterations) in 0.47 seconds (0.20 work units)\n",
      "Thread count was 8 (of 8 available processors)\n",
      "\n",
      "Solution count 10: 29.301 29.3074 29.3133 ... 29.4156\n",
      "\n",
      "Optimal solution found (tolerance 1.00e-04)\n",
      "Best objective 2.930095543613e+01, best bound 2.930095543613e+01, gap 0.0000%\n",
      "\n",
      "    Variable            X \n",
      "-------------------------\n",
      "  x_i,j[0,4]            1 \n",
      "  x_i,j[1,2]            1 \n",
      "  x_i,j[2,3]            1 \n",
      "  x_i,j[3,0]            1 \n",
      "  x_i,j[4,8]            1 \n",
      "  x_i,j[5,1]            1 \n",
      "  x_i,j[6,7]            1 \n",
      " x_i,j[7,10]            1 \n",
      "  x_i,j[8,9]            1 \n",
      "  x_i,j[9,6]            1 \n",
      " x_i,j[10,5]            1 \n",
      "current_bikes_i[0]           33 \n",
      "current_bikes_i[1]           12 \n",
      "current_bikes_i[2]            9 \n",
      "current_bikes_i[3]            5 \n",
      "current_bikes_i[4]           33 \n",
      "current_bikes_i[5]           13 \n",
      "current_bikes_i[6]           30 \n",
      "current_bikes_i[7]           25 \n",
      "current_bikes_i[8]           30 \n",
      "current_bikes_i[9]           31 \n",
      "current_bikes_i[10]           20 \n",
      "bikes_dropped_i[1]            3 \n",
      "bikes_dropped_i[2]            4 \n",
      "bikes_dropped_i[3]            3 \n",
      "bikes_dropped_i[4]            3 \n",
      "bikes_dropped_i[5]            1 \n",
      "bikes_dropped_i[6]            5 \n",
      "bikes_dropped_i[7]            5 \n",
      "bikes_dropped_i[9]            1 \n",
      "bikes_dropped_i[10]            7 \n",
      "bikes_picked_i[8]            1 \n",
      "z_continous[1]            8 \n",
      "z_continous[2]            9 \n",
      "z_continous[3]           10 \n",
      "z_continous[4]            1 \n",
      "z_continous[5]            7 \n",
      "z_continous[6]            4 \n",
      "z_continous[7]            5 \n",
      "z_continous[8]            2 \n",
      "z_continous[9]            3 \n",
      "z_continous[10]            6 \n",
      "total_bikes_rebalanced           33 \n",
      "           D      7.47164 \n",
      "total_stations_visited           11 \n",
      "total_bikes_dropped_off           32 \n",
      "total_bikes_picked            1 \n"
     ]
    }
   ],
   "source": [
    "prob.optimize()\n",
    "prob.printAttr('X')"
   ]
  },
  {
   "cell_type": "code",
   "execution_count": 401,
   "metadata": {},
   "outputs": [],
   "source": [
    "import csv\n",
    "variables = prob.getVars()\n",
    "values = prob.getAttr('X', variables)\n",
    "results = [(v.varName, v.x) for v in variables]\n",
    "output_file = 'Cluster_1/results_cluster1/optimization_results.csv'\n",
    "\n",
    "# Write the data\n",
    "with open(output_file, 'w', newline='') as file:\n",
    "    writer = csv.writer(file)\n",
    "    writer.writerow(['Variable Name', 'Value'])  # writing headers\n",
    "    writer.writerows(results)"
   ]
  },
  {
   "cell_type": "code",
   "execution_count": 402,
   "metadata": {},
   "outputs": [
    {
     "name": "stdout",
     "output_type": "stream",
     "text": [
      "Value of x[0,4]: 1.0\n",
      "Value of x[1,2]: 1.0\n",
      "Value of x[2,3]: 1.0\n",
      "Value of x[3,0]: 1.0\n",
      "Value of x[4,8]: 1.0\n",
      "Value of x[5,1]: 1.0\n",
      "Value of x[6,7]: 1.0\n",
      "Value of x[7,10]: 1.0\n",
      "Value of x[8,9]: 1.0\n",
      "Value of x[9,6]: 1.0\n",
      "Value of x[10,5]: 1.0\n"
     ]
    }
   ],
   "source": [
    "route_list=[]\n",
    "if prob.status == GRB.OPTIMAL:\n",
    "    for i in range(n):\n",
    "        for j in range(n):\n",
    "            if(x[i, j].X>0):\n",
    "                route_list.append((i, j)) \n",
    "                print(f\"Value of x[{i},{j}]:\", x[i, j].X)"
   ]
  },
  {
   "cell_type": "code",
   "execution_count": 403,
   "metadata": {},
   "outputs": [
    {
     "data": {
      "text/plain": [
       "[(0, 4),\n",
       " (1, 2),\n",
       " (2, 3),\n",
       " (3, 0),\n",
       " (4, 8),\n",
       " (5, 1),\n",
       " (6, 7),\n",
       " (7, 10),\n",
       " (8, 9),\n",
       " (9, 6),\n",
       " (10, 5)]"
      ]
     },
     "execution_count": 403,
     "metadata": {},
     "output_type": "execute_result"
    }
   ],
   "source": [
    "route_list"
   ]
  },
  {
   "cell_type": "code",
   "execution_count": 412,
   "metadata": {},
   "outputs": [
    {
     "data": {
      "text/plain": [
       "0.10057495751212915"
      ]
     },
     "execution_count": 412,
     "metadata": {},
     "output_type": "execute_result"
    }
   ],
   "source": [
    "g"
   ]
  },
  {
   "cell_type": "code",
   "execution_count": 413,
   "metadata": {},
   "outputs": [
    {
     "data": {
      "text/plain": [
       "0.0570096"
      ]
     },
     "execution_count": 413,
     "metadata": {},
     "output_type": "execute_result"
    }
   ],
   "source": [
    "g1"
   ]
  },
  {
   "cell_type": "code",
   "execution_count": 404,
   "metadata": {},
   "outputs": [
    {
     "data": {
      "text/html": [
       "<div>\n",
       "<style scoped>\n",
       "    .dataframe tbody tr th:only-of-type {\n",
       "        vertical-align: middle;\n",
       "    }\n",
       "\n",
       "    .dataframe tbody tr th {\n",
       "        vertical-align: top;\n",
       "    }\n",
       "\n",
       "    .dataframe thead th {\n",
       "        text-align: right;\n",
       "    }\n",
       "</style>\n",
       "<table border=\"1\" class=\"dataframe\">\n",
       "  <thead>\n",
       "    <tr style=\"text-align: right;\">\n",
       "      <th></th>\n",
       "      <th>Capacity</th>\n",
       "      <th>Ideal Level</th>\n",
       "      <th>Existing_bikes</th>\n",
       "      <th>Demand</th>\n",
       "      <th>Surplus_station</th>\n",
       "      <th>Shortage_station</th>\n",
       "    </tr>\n",
       "  </thead>\n",
       "  <tbody>\n",
       "    <tr>\n",
       "      <th>0</th>\n",
       "      <td>0</td>\n",
       "      <td>[0, 0]</td>\n",
       "      <td>0</td>\n",
       "      <td>0</td>\n",
       "      <td>0</td>\n",
       "      <td>0</td>\n",
       "    </tr>\n",
       "    <tr>\n",
       "      <th>1</th>\n",
       "      <td>15</td>\n",
       "      <td>[13, 13]</td>\n",
       "      <td>10</td>\n",
       "      <td>-3</td>\n",
       "      <td>0</td>\n",
       "      <td>1</td>\n",
       "    </tr>\n",
       "    <tr>\n",
       "      <th>2</th>\n",
       "      <td>15</td>\n",
       "      <td>[13, 13]</td>\n",
       "      <td>9</td>\n",
       "      <td>-4</td>\n",
       "      <td>0</td>\n",
       "      <td>1</td>\n",
       "    </tr>\n",
       "    <tr>\n",
       "      <th>3</th>\n",
       "      <td>15</td>\n",
       "      <td>[13, 13]</td>\n",
       "      <td>10</td>\n",
       "      <td>-3</td>\n",
       "      <td>0</td>\n",
       "      <td>1</td>\n",
       "    </tr>\n",
       "    <tr>\n",
       "      <th>4</th>\n",
       "      <td>15</td>\n",
       "      <td>[13, 13]</td>\n",
       "      <td>10</td>\n",
       "      <td>-3</td>\n",
       "      <td>0</td>\n",
       "      <td>1</td>\n",
       "    </tr>\n",
       "    <tr>\n",
       "      <th>5</th>\n",
       "      <td>15</td>\n",
       "      <td>[13, 13]</td>\n",
       "      <td>12</td>\n",
       "      <td>-1</td>\n",
       "      <td>0</td>\n",
       "      <td>1</td>\n",
       "    </tr>\n",
       "    <tr>\n",
       "      <th>6</th>\n",
       "      <td>15</td>\n",
       "      <td>[13, 13]</td>\n",
       "      <td>8</td>\n",
       "      <td>-5</td>\n",
       "      <td>0</td>\n",
       "      <td>1</td>\n",
       "    </tr>\n",
       "    <tr>\n",
       "      <th>7</th>\n",
       "      <td>15</td>\n",
       "      <td>[13, 13]</td>\n",
       "      <td>8</td>\n",
       "      <td>-5</td>\n",
       "      <td>0</td>\n",
       "      <td>1</td>\n",
       "    </tr>\n",
       "    <tr>\n",
       "      <th>8</th>\n",
       "      <td>15</td>\n",
       "      <td>[13, 13]</td>\n",
       "      <td>14</td>\n",
       "      <td>1</td>\n",
       "      <td>1</td>\n",
       "      <td>0</td>\n",
       "    </tr>\n",
       "    <tr>\n",
       "      <th>9</th>\n",
       "      <td>15</td>\n",
       "      <td>[13, 13]</td>\n",
       "      <td>12</td>\n",
       "      <td>-1</td>\n",
       "      <td>0</td>\n",
       "      <td>1</td>\n",
       "    </tr>\n",
       "    <tr>\n",
       "      <th>10</th>\n",
       "      <td>15</td>\n",
       "      <td>[13, 13]</td>\n",
       "      <td>6</td>\n",
       "      <td>-7</td>\n",
       "      <td>0</td>\n",
       "      <td>1</td>\n",
       "    </tr>\n",
       "    <tr>\n",
       "      <th>11</th>\n",
       "      <td>15</td>\n",
       "      <td>[13, 13]</td>\n",
       "      <td>11</td>\n",
       "      <td>-2</td>\n",
       "      <td>0</td>\n",
       "      <td>1</td>\n",
       "    </tr>\n",
       "  </tbody>\n",
       "</table>\n",
       "</div>"
      ],
      "text/plain": [
       "    Capacity Ideal Level  Existing_bikes  Demand  Surplus_station  \\\n",
       "0          0      [0, 0]               0       0                0   \n",
       "1         15    [13, 13]              10      -3                0   \n",
       "2         15    [13, 13]               9      -4                0   \n",
       "3         15    [13, 13]              10      -3                0   \n",
       "4         15    [13, 13]              10      -3                0   \n",
       "5         15    [13, 13]              12      -1                0   \n",
       "6         15    [13, 13]               8      -5                0   \n",
       "7         15    [13, 13]               8      -5                0   \n",
       "8         15    [13, 13]              14       1                1   \n",
       "9         15    [13, 13]              12      -1                0   \n",
       "10        15    [13, 13]               6      -7                0   \n",
       "11        15    [13, 13]              11      -2                0   \n",
       "\n",
       "    Shortage_station  \n",
       "0                  0  \n",
       "1                  1  \n",
       "2                  1  \n",
       "3                  1  \n",
       "4                  1  \n",
       "5                  1  \n",
       "6                  1  \n",
       "7                  1  \n",
       "8                  0  \n",
       "9                  1  \n",
       "10                 1  \n",
       "11                 1  "
      ]
     },
     "execution_count": 404,
     "metadata": {},
     "output_type": "execute_result"
    }
   ],
   "source": [
    "parameters_df"
   ]
  },
  {
   "cell_type": "code",
   "execution_count": 405,
   "metadata": {},
   "outputs": [
    {
     "data": {
      "image/png": "[encoded data removed]",
      "text/plain": [
       "<Figure size 720x504 with 1 Axes>"
      ]
     },
     "metadata": {
      "needs_background": "light"
     },
     "output_type": "display_data"
    },
    {
     "data": {
      "text/plain": [
       "[(0, 4),\n",
       " (4, 8),\n",
       " (8, 9),\n",
       " (9, 6),\n",
       " (6, 7),\n",
       " (7, 10),\n",
       " (10, 5),\n",
       " (5, 1),\n",
       " (1, 2),\n",
       " (2, 3),\n",
       " (3, 0)]"
      ]
     },
     "execution_count": 405,
     "metadata": {},
     "output_type": "execute_result"
    }
   ],
   "source": [
    "import matplotlib.pyplot as plt\n",
    "\n",
    "# Assuming routes and df_nodes are defined as before\n",
    "routes = route_list\n",
    "\n",
    "# Start with the initial node known, say from your route start\n",
    "start_node = 0\n",
    "\n",
    "# Reorder routes to maintain continuity\n",
    "sorted_routes = []\n",
    "current_node = start_node\n",
    "\n",
    "# Dictionary to quickly find next node from a given node\n",
    "route_dict = {start: end for start, end in routes}\n",
    "\n",
    "# Continue looping until the route is complete\n",
    "while route_dict:\n",
    "    next_node = route_dict.pop(current_node)\n",
    "    sorted_routes.append((current_node, next_node))\n",
    "    current_node = next_node\n",
    "\n",
    "# Extract coordinates in the correct order\n",
    "route_coords = []\n",
    "for start, end in sorted_routes:\n",
    "    start_coords = (df_nodes.at[start, 'Longitude'], df_nodes.at[start, 'Latitude'])\n",
    "    end_coords = (df_nodes.at[end, 'Longitude'], df_nodes.at[end, 'Latitude'])\n",
    "    route_coords.append((start_coords, end_coords))\n",
    "\n",
    "# Plotting\n",
    "plt.figure(figsize=(10, 7))\n",
    "for (lon, lat), (end_lon, end_lat) in route_coords:\n",
    "    plt.plot([lon, end_lon], [lat, end_lat], 'o-', markersize=8, linewidth=2)  # Plot lines and nodes\n",
    "\n",
    "# Annotate each point with the station name\n",
    "for index, row in df_nodes.iterrows():\n",
    "    plt.text(row['Longitude'], row['Latitude'], row['Station Name'], fontsize=8, ha='right')\n",
    "\n",
    "plt.xlabel('Longitude')\n",
    "plt.ylabel('Latitude')\n",
    "plt.title('Vehicle Route for Rebalancing')\n",
    "plt.grid(True)\n",
    "plt.savefig('Cluster_1/results_cluster1/results_optimization.png')\n",
    "plt.show()\n",
    "sorted_routes"
   ]
  },
  {
   "cell_type": "code",
   "execution_count": 406,
   "metadata": {},
   "outputs": [],
   "source": [
    "station_name_series = df_nodes['Station Name']\n",
    "parameters_df.insert(0, 'Station Name', station_name_series)"
   ]
  },
  {
   "cell_type": "code",
   "execution_count": 407,
   "metadata": {},
   "outputs": [
    {
     "name": "stdout",
     "output_type": "stream",
     "text": [
      "Value of c[0]: 33.0\n",
      "Value of c[1]: 12.0\n",
      "Value of c[2]: 9.0\n",
      "Value of c[3]: 5.0\n",
      "Value of c[4]: 33.0\n",
      "Value of c[5]: 13.0\n",
      "Value of c[6]: 30.0\n",
      "Value of c[7]: 25.0\n",
      "Value of c[8]: 30.0\n",
      "Value of c[9]: 31.0\n",
      "Value of c[10]: 20.0\n"
     ]
    }
   ],
   "source": [
    "route_list=[]\n",
    "if prob.status == GRB.OPTIMAL:\n",
    "    for i in range(n):\n",
    "        for j in range(n):\n",
    "            if(x[i, j].X>0):\n",
    "                route_list.append((i, j)) \n",
    "                print(f\"Value of c[{i}]:\", c[i].X)"
   ]
  },
  {
   "cell_type": "code",
   "execution_count": 408,
   "metadata": {},
   "outputs": [
    {
     "data": {
      "text/html": [
       "<div>\n",
       "<style scoped>\n",
       "    .dataframe tbody tr th:only-of-type {\n",
       "        vertical-align: middle;\n",
       "    }\n",
       "\n",
       "    .dataframe tbody tr th {\n",
       "        vertical-align: top;\n",
       "    }\n",
       "\n",
       "    .dataframe thead th {\n",
       "        text-align: right;\n",
       "    }\n",
       "</style>\n",
       "<table border=\"1\" class=\"dataframe\">\n",
       "  <thead>\n",
       "    <tr style=\"text-align: right;\">\n",
       "      <th></th>\n",
       "      <th>Station Name</th>\n",
       "      <th>Capacity</th>\n",
       "      <th>Ideal Level</th>\n",
       "      <th>Existing_bikes</th>\n",
       "      <th>Demand</th>\n",
       "      <th>Surplus_station</th>\n",
       "      <th>Shortage_station</th>\n",
       "    </tr>\n",
       "  </thead>\n",
       "  <tbody>\n",
       "    <tr>\n",
       "      <th>0</th>\n",
       "      <td>Depot</td>\n",
       "      <td>0</td>\n",
       "      <td>[0, 0]</td>\n",
       "      <td>0</td>\n",
       "      <td>0</td>\n",
       "      <td>0</td>\n",
       "      <td>0</td>\n",
       "    </tr>\n",
       "    <tr>\n",
       "      <th>1</th>\n",
       "      <td>Columbus Drive</td>\n",
       "      <td>15</td>\n",
       "      <td>[13, 13]</td>\n",
       "      <td>10</td>\n",
       "      <td>-3</td>\n",
       "      <td>0</td>\n",
       "      <td>1</td>\n",
       "    </tr>\n",
       "    <tr>\n",
       "      <th>2</th>\n",
       "      <td>Van Vorst Park</td>\n",
       "      <td>15</td>\n",
       "      <td>[13, 13]</td>\n",
       "      <td>9</td>\n",
       "      <td>-4</td>\n",
       "      <td>0</td>\n",
       "      <td>1</td>\n",
       "    </tr>\n",
       "    <tr>\n",
       "      <th>3</th>\n",
       "      <td>City Hall</td>\n",
       "      <td>15</td>\n",
       "      <td>[13, 13]</td>\n",
       "      <td>10</td>\n",
       "      <td>-3</td>\n",
       "      <td>0</td>\n",
       "      <td>1</td>\n",
       "    </tr>\n",
       "    <tr>\n",
       "      <th>4</th>\n",
       "      <td>York St &amp; Marin Blvd</td>\n",
       "      <td>15</td>\n",
       "      <td>[13, 13]</td>\n",
       "      <td>10</td>\n",
       "      <td>-3</td>\n",
       "      <td>0</td>\n",
       "      <td>1</td>\n",
       "    </tr>\n",
       "    <tr>\n",
       "      <th>5</th>\n",
       "      <td>Exchange Pl</td>\n",
       "      <td>15</td>\n",
       "      <td>[13, 13]</td>\n",
       "      <td>12</td>\n",
       "      <td>-1</td>\n",
       "      <td>0</td>\n",
       "      <td>1</td>\n",
       "    </tr>\n",
       "    <tr>\n",
       "      <th>6</th>\n",
       "      <td>JC Medical Center</td>\n",
       "      <td>15</td>\n",
       "      <td>[13, 13]</td>\n",
       "      <td>8</td>\n",
       "      <td>-5</td>\n",
       "      <td>0</td>\n",
       "      <td>1</td>\n",
       "    </tr>\n",
       "    <tr>\n",
       "      <th>7</th>\n",
       "      <td>Grand St</td>\n",
       "      <td>15</td>\n",
       "      <td>[13, 13]</td>\n",
       "      <td>8</td>\n",
       "      <td>-5</td>\n",
       "      <td>0</td>\n",
       "      <td>1</td>\n",
       "    </tr>\n",
       "    <tr>\n",
       "      <th>8</th>\n",
       "      <td>Marin Light Rail</td>\n",
       "      <td>15</td>\n",
       "      <td>[13, 13]</td>\n",
       "      <td>14</td>\n",
       "      <td>1</td>\n",
       "      <td>1</td>\n",
       "      <td>0</td>\n",
       "    </tr>\n",
       "    <tr>\n",
       "      <th>9</th>\n",
       "      <td>Paulus Hook</td>\n",
       "      <td>15</td>\n",
       "      <td>[13, 13]</td>\n",
       "      <td>12</td>\n",
       "      <td>-1</td>\n",
       "      <td>0</td>\n",
       "      <td>1</td>\n",
       "    </tr>\n",
       "    <tr>\n",
       "      <th>10</th>\n",
       "      <td>Essex Light Rail</td>\n",
       "      <td>15</td>\n",
       "      <td>[13, 13]</td>\n",
       "      <td>6</td>\n",
       "      <td>-7</td>\n",
       "      <td>0</td>\n",
       "      <td>1</td>\n",
       "    </tr>\n",
       "    <tr>\n",
       "      <th>11</th>\n",
       "      <td>Liberty Light Rail</td>\n",
       "      <td>15</td>\n",
       "      <td>[13, 13]</td>\n",
       "      <td>11</td>\n",
       "      <td>-2</td>\n",
       "      <td>0</td>\n",
       "      <td>1</td>\n",
       "    </tr>\n",
       "  </tbody>\n",
       "</table>\n",
       "</div>"
      ],
      "text/plain": [
       "            Station Name  Capacity Ideal Level  Existing_bikes  Demand  \\\n",
       "0                  Depot         0      [0, 0]               0       0   \n",
       "1         Columbus Drive        15    [13, 13]              10      -3   \n",
       "2         Van Vorst Park        15    [13, 13]               9      -4   \n",
       "3              City Hall        15    [13, 13]              10      -3   \n",
       "4   York St & Marin Blvd        15    [13, 13]              10      -3   \n",
       "5            Exchange Pl        15    [13, 13]              12      -1   \n",
       "6      JC Medical Center        15    [13, 13]               8      -5   \n",
       "7               Grand St        15    [13, 13]               8      -5   \n",
       "8       Marin Light Rail        15    [13, 13]              14       1   \n",
       "9            Paulus Hook        15    [13, 13]              12      -1   \n",
       "10      Essex Light Rail        15    [13, 13]               6      -7   \n",
       "11    Liberty Light Rail        15    [13, 13]              11      -2   \n",
       "\n",
       "    Surplus_station  Shortage_station  \n",
       "0                 0                 0  \n",
       "1                 0                 1  \n",
       "2                 0                 1  \n",
       "3                 0                 1  \n",
       "4                 0                 1  \n",
       "5                 0                 1  \n",
       "6                 0                 1  \n",
       "7                 0                 1  \n",
       "8                 1                 0  \n",
       "9                 0                 1  \n",
       "10                0                 1  \n",
       "11                0                 1  "
      ]
     },
     "execution_count": 408,
     "metadata": {},
     "output_type": "execute_result"
    }
   ],
   "source": [
    "parameters_df"
   ]
  },
  {
   "cell_type": "code",
   "execution_count": 409,
   "metadata": {},
   "outputs": [
    {
     "data": {
      "text/html": [
       "<div>\n",
       "<style scoped>\n",
       "    .dataframe tbody tr th:only-of-type {\n",
       "        vertical-align: middle;\n",
       "    }\n",
       "\n",
       "    .dataframe tbody tr th {\n",
       "        vertical-align: top;\n",
       "    }\n",
       "\n",
       "    .dataframe thead th {\n",
       "        text-align: right;\n",
       "    }\n",
       "</style>\n",
       "<table border=\"1\" class=\"dataframe\">\n",
       "  <thead>\n",
       "    <tr style=\"text-align: right;\">\n",
       "      <th></th>\n",
       "      <th>Station Name</th>\n",
       "      <th>Demand</th>\n",
       "    </tr>\n",
       "  </thead>\n",
       "  <tbody>\n",
       "    <tr>\n",
       "      <th>0</th>\n",
       "      <td>Depot</td>\n",
       "      <td>0</td>\n",
       "    </tr>\n",
       "    <tr>\n",
       "      <th>1</th>\n",
       "      <td>Columbus Drive</td>\n",
       "      <td>-3</td>\n",
       "    </tr>\n",
       "    <tr>\n",
       "      <th>2</th>\n",
       "      <td>Van Vorst Park</td>\n",
       "      <td>-4</td>\n",
       "    </tr>\n",
       "    <tr>\n",
       "      <th>3</th>\n",
       "      <td>City Hall</td>\n",
       "      <td>-3</td>\n",
       "    </tr>\n",
       "    <tr>\n",
       "      <th>4</th>\n",
       "      <td>York St &amp; Marin Blvd</td>\n",
       "      <td>-3</td>\n",
       "    </tr>\n",
       "    <tr>\n",
       "      <th>5</th>\n",
       "      <td>Exchange Pl</td>\n",
       "      <td>-1</td>\n",
       "    </tr>\n",
       "    <tr>\n",
       "      <th>6</th>\n",
       "      <td>JC Medical Center</td>\n",
       "      <td>-5</td>\n",
       "    </tr>\n",
       "    <tr>\n",
       "      <th>7</th>\n",
       "      <td>Grand St</td>\n",
       "      <td>-5</td>\n",
       "    </tr>\n",
       "    <tr>\n",
       "      <th>8</th>\n",
       "      <td>Marin Light Rail</td>\n",
       "      <td>1</td>\n",
       "    </tr>\n",
       "    <tr>\n",
       "      <th>9</th>\n",
       "      <td>Paulus Hook</td>\n",
       "      <td>-1</td>\n",
       "    </tr>\n",
       "    <tr>\n",
       "      <th>10</th>\n",
       "      <td>Essex Light Rail</td>\n",
       "      <td>-7</td>\n",
       "    </tr>\n",
       "    <tr>\n",
       "      <th>11</th>\n",
       "      <td>Liberty Light Rail</td>\n",
       "      <td>-2</td>\n",
       "    </tr>\n",
       "  </tbody>\n",
       "</table>\n",
       "</div>"
      ],
      "text/plain": [
       "            Station Name  Demand\n",
       "0                  Depot       0\n",
       "1         Columbus Drive      -3\n",
       "2         Van Vorst Park      -4\n",
       "3              City Hall      -3\n",
       "4   York St & Marin Blvd      -3\n",
       "5            Exchange Pl      -1\n",
       "6      JC Medical Center      -5\n",
       "7               Grand St      -5\n",
       "8       Marin Light Rail       1\n",
       "9            Paulus Hook      -1\n",
       "10      Essex Light Rail      -7\n",
       "11    Liberty Light Rail      -2"
      ]
     },
     "execution_count": 409,
     "metadata": {},
     "output_type": "execute_result"
    }
   ],
   "source": [
    "parameters_df[['Station Name', 'Demand']]"
   ]
  },
  {
   "cell_type": "code",
   "execution_count": 410,
   "metadata": {
    "id": "lxv3xnTKaPlt",
    "outputId": "51b3b31c-15d6-4f65-d986-24519760cd9a"
   },
   "outputs": [
    {
     "name": "stdout",
     "output_type": "stream",
     "text": [
      "Operation and carbon cost: 29.3\n",
      "The vehicle travelled 11.0 stations and rebalanced 33.0 bikes (picked up 1.0 bikes and dropped off 32.0 bikes).\n"
     ]
    }
   ],
   "source": [
    "print('Operation and carbon cost: ' + str(round(obj.getValue(),2)))\n",
    "print('The vehicle travelled {} stations and rebalanced {} bikes (picked up {} bikes and dropped off {} bikes).'.format(V.x, B.x, p_sum.x, d_sum.x))"
   ]
  },
  {
   "cell_type": "code",
   "execution_count": 411,
   "metadata": {
    "id": "bAbMRVf8aPlt"
   },
   "outputs": [],
   "source": [
    "parameters_df.to_csv('Cluster_1/results_cluster1/parameters_fdf.csv', index=False)"
   ]
  }
 ],
 "metadata": {
  "colab": {
   "name": "P1_Profit_Maximization_Verdun_190708_190714.ipynb",
   "provenance": []
  },
  "kernelspec": {
   "display_name": "Python 3 (ipykernel)",
   "language": "python",
   "name": "python3"
  },
  "language_info": {
   "codemirror_mode": {
    "name": "ipython",
    "version": 3
   },
   "file_extension": ".py",
   "mimetype": "text/x-python",
   "name": "python",
   "nbconvert_exporter": "python",
   "pygments_lexer": "ipython3",
   "version": "3.11.5"
  }
 },
 "nbformat": 4,
 "nbformat_minor": 1
}
